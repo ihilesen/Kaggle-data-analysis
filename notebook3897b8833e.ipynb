{
 "cells": [
  {
   "cell_type": "code",
   "execution_count": 1,
   "id": "0eb8844c",
   "metadata": {
    "_cell_guid": "b1076dfc-b9ad-4769-8c92-a6c4dae69d19",
    "_uuid": "8f2839f25d086af736a60e9eeb907d3b93b6e0e5",
    "execution": {
     "iopub.execute_input": "2023-05-27T09:59:15.490974Z",
     "iopub.status.busy": "2023-05-27T09:59:15.490431Z",
     "iopub.status.idle": "2023-05-27T09:59:15.518403Z",
     "shell.execute_reply": "2023-05-27T09:59:15.517318Z"
    },
    "papermill": {
     "duration": 0.035382,
     "end_time": "2023-05-27T09:59:15.520959",
     "exception": false,
     "start_time": "2023-05-27T09:59:15.485577",
     "status": "completed"
    },
    "tags": []
   },
   "outputs": [
    {
     "name": "stdout",
     "output_type": "stream",
     "text": [
      "/kaggle/input/fetal-health-classification/fetal_health.csv\n"
     ]
    }
   ],
   "source": [
    "# This Python 3 environment comes with many helpful analytics libraries installed\n",
    "# It is defined by the kaggle/python Docker image: https://github.com/kaggle/docker-python\n",
    "# For example, here's several helpful packages to load\n",
    "\n",
    "import numpy as np # linear algebra\n",
    "import pandas as pd # data processing, CSV file I/O (e.g. pd.read_csv)\n",
    "\n",
    "# Input data files are available in the read-only \"../input/\" directory\n",
    "# For example, running this (by clicking run or pressing Shift+Enter) will list all files under the input directory\n",
    "\n",
    "import os\n",
    "for dirname, _, filenames in os.walk('/kaggle/input'):\n",
    "    for filename in filenames:\n",
    "        print(os.path.join(dirname, filename))\n",
    "\n",
    "# You can write up to 20GB to the current directory (/kaggle/working/) that gets preserved as output when you create a version using \"Save & Run All\" \n",
    "# You can also write temporary files to /kaggle/temp/, but they won't be saved outside of the current session"
   ]
  },
  {
   "cell_type": "code",
   "execution_count": 2,
   "id": "b73fa334",
   "metadata": {
    "execution": {
     "iopub.execute_input": "2023-05-27T09:59:15.527702Z",
     "iopub.status.busy": "2023-05-27T09:59:15.527089Z",
     "iopub.status.idle": "2023-05-27T09:59:17.170173Z",
     "shell.execute_reply": "2023-05-27T09:59:17.168985Z"
    },
    "papermill": {
     "duration": 1.649665,
     "end_time": "2023-05-27T09:59:17.173076",
     "exception": false,
     "start_time": "2023-05-27T09:59:15.523411",
     "status": "completed"
    },
    "tags": []
   },
   "outputs": [
    {
     "name": "stdout",
     "output_type": "stream",
     "text": [
      "   baseline value  accelerations  fetal_movement  uterine_contractions  \\\n",
      "0           120.0          0.000             0.0                 0.000   \n",
      "1           132.0          0.006             0.0                 0.006   \n",
      "2           133.0          0.003             0.0                 0.008   \n",
      "3           134.0          0.003             0.0                 0.008   \n",
      "4           132.0          0.007             0.0                 0.008   \n",
      "\n",
      "   light_decelerations  severe_decelerations  prolongued_decelerations  \\\n",
      "0                0.000                   0.0                       0.0   \n",
      "1                0.003                   0.0                       0.0   \n",
      "2                0.003                   0.0                       0.0   \n",
      "3                0.003                   0.0                       0.0   \n",
      "4                0.000                   0.0                       0.0   \n",
      "\n",
      "   abnormal_short_term_variability  mean_value_of_short_term_variability  \\\n",
      "0                             73.0                                   0.5   \n",
      "1                             17.0                                   2.1   \n",
      "2                             16.0                                   2.1   \n",
      "3                             16.0                                   2.4   \n",
      "4                             16.0                                   2.4   \n",
      "\n",
      "   percentage_of_time_with_abnormal_long_term_variability  ...  histogram_min  \\\n",
      "0                                               43.0       ...           62.0   \n",
      "1                                                0.0       ...           68.0   \n",
      "2                                                0.0       ...           68.0   \n",
      "3                                                0.0       ...           53.0   \n",
      "4                                                0.0       ...           53.0   \n",
      "\n",
      "   histogram_max  histogram_number_of_peaks  histogram_number_of_zeroes  \\\n",
      "0          126.0                        2.0                         0.0   \n",
      "1          198.0                        6.0                         1.0   \n",
      "2          198.0                        5.0                         1.0   \n",
      "3          170.0                       11.0                         0.0   \n",
      "4          170.0                        9.0                         0.0   \n",
      "\n",
      "   histogram_mode  histogram_mean  histogram_median  histogram_variance  \\\n",
      "0           120.0           137.0             121.0                73.0   \n",
      "1           141.0           136.0             140.0                12.0   \n",
      "2           141.0           135.0             138.0                13.0   \n",
      "3           137.0           134.0             137.0                13.0   \n",
      "4           137.0           136.0             138.0                11.0   \n",
      "\n",
      "   histogram_tendency  fetal_health  \n",
      "0                 1.0           2.0  \n",
      "1                 0.0           1.0  \n",
      "2                 0.0           1.0  \n",
      "3                 1.0           1.0  \n",
      "4                 1.0           1.0  \n",
      "\n",
      "[5 rows x 22 columns]\n"
     ]
    }
   ],
   "source": [
    "import pandas as pd\n",
    "fetal_data = pd.read_csv(\"/kaggle/input/fetal-health-classification/fetal_health.csv\")\n",
    "print(fetal_data.head())\n",
    "import seaborn as sns"
   ]
  },
  {
   "cell_type": "code",
   "execution_count": null,
   "id": "4a2b183d",
   "metadata": {
    "papermill": {
     "duration": 0.002213,
     "end_time": "2023-05-27T09:59:17.177921",
     "exception": false,
     "start_time": "2023-05-27T09:59:17.175708",
     "status": "completed"
    },
    "tags": []
   },
   "outputs": [],
   "source": []
  }
 ],
 "metadata": {
  "kernelspec": {
   "display_name": "Python 3",
   "language": "python",
   "name": "python3"
  },
  "language_info": {
   "codemirror_mode": {
    "name": "ipython",
    "version": 3
   },
   "file_extension": ".py",
   "mimetype": "text/x-python",
   "name": "python",
   "nbconvert_exporter": "python",
   "pygments_lexer": "ipython3",
   "version": "3.10.10"
  },
  "papermill": {
   "default_parameters": {},
   "duration": 15.910039,
   "end_time": "2023-05-27T09:59:18.203990",
   "environment_variables": {},
   "exception": null,
   "input_path": "__notebook__.ipynb",
   "output_path": "__notebook__.ipynb",
   "parameters": {},
   "start_time": "2023-05-27T09:59:02.293951",
   "version": "2.4.0"
  }
 },
 "nbformat": 4,
 "nbformat_minor": 5
}

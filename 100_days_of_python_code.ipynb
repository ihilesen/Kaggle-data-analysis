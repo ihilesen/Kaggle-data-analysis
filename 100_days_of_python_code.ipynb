{
  "nbformat": 4,
  "nbformat_minor": 0,
  "metadata": {
    "colab": {
      "provenance": [],
      "authorship_tag": "ABX9TyNlemqtob8a26zKeHQbEEdc",
      "include_colab_link": true
    },
    "kernelspec": {
      "name": "python3",
      "display_name": "Python 3"
    },
    "language_info": {
      "name": "python"
    }
  },
  "cells": [
    {
      "cell_type": "markdown",
      "metadata": {
        "id": "view-in-github",
        "colab_type": "text"
      },
      "source": [
        "<a href=\"https://colab.research.google.com/github/ihilesen/Kaggle-data-analysis/blob/main/100_days_of_python_code.ipynb\" target=\"_parent\"><img src=\"https://colab.research.google.com/assets/colab-badge.svg\" alt=\"Open In Colab\"/></a>"
      ]
    },
    {
      "cell_type": "code",
      "source": [
        "#to use a single print statement for multiple lines\n",
        "print(\"hello \\nmy name is ihilesen \\ni'm new\")\n",
        "#to concatenate or combine, and to leave spaces, add space after word or before word or a space in ' '"
      ],
      "metadata": {
        "id": "wYv27dELB9fi",
        "colab": {
          "base_uri": "https://localhost:8080/"
        },
        "outputId": "106603c3-259d-4e38-a773-d031133f65d6"
      },
      "execution_count": null,
      "outputs": [
        {
          "output_type": "stream",
          "name": "stdout",
          "text": [
            "hello \n",
            "my name is ihilesen \n",
            "i'm new\n"
          ]
        }
      ]
    },
    {
      "cell_type": "code",
      "source": [
        "# There are two variables, a and b from input\n",
        "a = input()\n",
        "b = input()\n",
        "# 🚨 Don't change the code above ☝️\n",
        "####################################\n",
        "# Write your code below this line 👇\n",
        "c=a\n",
        "a=b\n",
        "b=c\n",
        "\n",
        "# Write your code above this line ☝️\n",
        "print(\"a: \" + a)\n",
        "print(\"b: \" + b)\n"
      ],
      "metadata": {
        "id": "GvxDYOvwMp8L"
      },
      "execution_count": null,
      "outputs": []
    },
    {
      "cell_type": "code",
      "source": [
        "num_char = len(input('What is your name'))\n",
        "print(\"Your name has \" + str(num_char) + \" characters.\")"
      ],
      "metadata": {
        "colab": {
          "base_uri": "https://localhost:8080/"
        },
        "id": "RDGhIN_MSIDk",
        "outputId": "3e555a53-175f-4b77-85e1-8fab0dee0254"
      },
      "execution_count": 5,
      "outputs": [
        {
          "output_type": "stream",
          "name": "stdout",
          "text": [
            "What is your nameokokomaiko\n",
            "Your name has 10 characters.\n"
          ]
        }
      ]
    },
    {
      "cell_type": "code",
      "source": [
        "two_digit_number = input()\n",
        "# 🚨 Don't change the code above 👆\n",
        "####################################\n",
        "# Write your code below this line 👇\n",
        "\n",
        "a = int(two_digit_number[0])\n",
        "b=int(two_digit_number[1])\n",
        "\n",
        "two_digit_number1 = a + b\n",
        "print(two_digit_number1)"
      ],
      "metadata": {
        "id": "3DKNBAvRTU6n"
      },
      "execution_count": null,
      "outputs": []
    },
    {
      "cell_type": "code",
      "source": [
        "#BMI CALCULATOR\n",
        "weight = input('What is your weight in kg? \\n')\n",
        "height= input('What is your height in m? \\n')\n",
        "BMI = int(weight)/(float(height)**2)\n",
        "print('Your bmi is ' + str(BMI))\n",
        "\n",
        "#use round() function to round up decimals. ,n will give the number of decimal places."
      ],
      "metadata": {
        "colab": {
          "base_uri": "https://localhost:8080/"
        },
        "id": "VGWKnIfjUqtr",
        "outputId": "a112cb2a-4c14-4482-8b5b-73787c284555"
      },
      "execution_count": 16,
      "outputs": [
        {
          "output_type": "stream",
          "name": "stdout",
          "text": [
            "What is your weight in kg? \n",
            "72\n",
            "What is your height in m? \n",
            "1.65\n",
            "Your bmi is 26\n"
          ]
        }
      ]
    },
    {
      "cell_type": "code",
      "source": [
        "#NUMBER OF WEEKS TO 90 YEARS\n",
        "age = input()\n",
        "years = 90-int(age)\n",
        "weeks = years * 52\n",
        "print(f'You have {weeks} weeks left.')"
      ],
      "metadata": {
        "colab": {
          "base_uri": "https://localhost:8080/"
        },
        "id": "tX8-xTrRXx6f",
        "outputId": "7b4e50c7-d712-43bc-a660-36ba01214675"
      },
      "execution_count": 18,
      "outputs": [
        {
          "output_type": "stream",
          "name": "stdout",
          "text": [
            "20\n",
            "You have 3640 weeks left.\n"
          ]
        }
      ]
    }
  ]
}
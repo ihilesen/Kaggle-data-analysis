{
 "cells": [
  {
   "cell_type": "code",
   "execution_count": 1,
   "id": "18c48ae6",
   "metadata": {
    "_cell_guid": "b1076dfc-b9ad-4769-8c92-a6c4dae69d19",
    "_uuid": "8f2839f25d086af736a60e9eeb907d3b93b6e0e5",
    "execution": {
     "iopub.execute_input": "2024-08-23T14:54:38.000886Z",
     "iopub.status.busy": "2024-08-23T14:54:38.000440Z",
     "iopub.status.idle": "2024-08-23T14:54:38.404190Z",
     "shell.execute_reply": "2024-08-23T14:54:38.403013Z"
    },
    "papermill": {
     "duration": 0.411361,
     "end_time": "2024-08-23T14:54:38.406788",
     "exception": false,
     "start_time": "2024-08-23T14:54:37.995427",
     "status": "completed"
    },
    "tags": []
   },
   "outputs": [
    {
     "name": "stdout",
     "output_type": "stream",
     "text": [
      "/kaggle/input/global-population-growth-2024/global_population_growth_2024.csv\n"
     ]
    }
   ],
   "source": [
    "# This Python 3 environment comes with many helpful analytics libraries installed\n",
    "# It is defined by the kaggle/python Docker image: https://github.com/kaggle/docker-python\n",
    "# For example, here's several helpful packages to load\n",
    "\n",
    "import numpy as np # linear algebra\n",
    "import pandas as pd # data processing, CSV file I/O (e.g. pd.read_csv)\n",
    "\n",
    "# Input data files are available in the read-only \"../input/\" directory\n",
    "# For example, running this (by clicking run or pressing Shift+Enter) will list all files under the input directory\n",
    "\n",
    "import os\n",
    "for dirname, _, filenames in os.walk('/kaggle/input'):\n",
    "    for filename in filenames:\n",
    "        print(os.path.join(dirname, filename))\n",
    "\n",
    "# You can write up to 20GB to the current directory (/kaggle/working/) that gets preserved as output when you create a version using \"Save & Run All\" \n",
    "# You can also write temporary files to /kaggle/temp/, but they won't be saved outside of the current session"
   ]
  },
  {
   "cell_type": "code",
   "execution_count": 2,
   "id": "51ae578c",
   "metadata": {
    "execution": {
     "iopub.execute_input": "2024-08-23T14:54:38.414416Z",
     "iopub.status.busy": "2024-08-23T14:54:38.413876Z",
     "iopub.status.idle": "2024-08-23T14:54:38.451868Z",
     "shell.execute_reply": "2024-08-23T14:54:38.450564Z"
    },
    "papermill": {
     "duration": 0.044493,
     "end_time": "2024-08-23T14:54:38.454311",
     "exception": false,
     "start_time": "2024-08-23T14:54:38.409818",
     "status": "completed"
    },
    "tags": []
   },
   "outputs": [
    {
     "name": "stdout",
     "output_type": "stream",
     "text": [
      "          City    Country  Population_2023  Growth_Rate (%)  Population_2024\n",
      "0  Los Angeles        USA         26836512         1.308574         27187687\n",
      "1     Shanghai      China         11673774         1.568945         11856929\n",
      "2        Cairo      Egypt         22201723         4.871278         23283230\n",
      "3       Mumbai      India         11440139         1.314396         11590507\n",
      "4  Los Angeles        USA          3792427         4.344733          3957197\n",
      "5       Sydney  Australia         12309411         2.715250         12643642\n",
      "6       London         UK         21134895         1.612540         21475703\n",
      "7  Los Angeles        USA          6748035         4.418375          7046188\n",
      "8        Cairo      Egypt          5390020         2.503874          5524979\n",
      "9       Mumbai      India          3681719         2.816678          3785421\n"
     ]
    }
   ],
   "source": [
    "global_pop = pd.read_csv('/kaggle/input/global-population-growth-2024/global_population_growth_2024.csv')\n",
    "print(global_pop.head(10))"
   ]
  },
  {
   "cell_type": "code",
   "execution_count": 3,
   "id": "67c4710b",
   "metadata": {
    "execution": {
     "iopub.execute_input": "2024-08-23T14:54:38.461922Z",
     "iopub.status.busy": "2024-08-23T14:54:38.461221Z",
     "iopub.status.idle": "2024-08-23T14:54:38.471842Z",
     "shell.execute_reply": "2024-08-23T14:54:38.470604Z"
    },
    "papermill": {
     "duration": 0.01694,
     "end_time": "2024-08-23T14:54:38.474182",
     "exception": false,
     "start_time": "2024-08-23T14:54:38.457242",
     "status": "completed"
    },
    "tags": []
   },
   "outputs": [
    {
     "name": "stdout",
     "output_type": "stream",
     "text": [
      "City               0\n",
      "Country            0\n",
      "Population_2023    0\n",
      "Growth_Rate (%)    0\n",
      "Population_2024    0\n",
      "dtype: int64\n",
      "City               False\n",
      "Country            False\n",
      "Population_2023    False\n",
      "Growth_Rate (%)    False\n",
      "Population_2024    False\n",
      "dtype: bool\n"
     ]
    }
   ],
   "source": [
    "missing_values = global_pop.isnull()\n",
    "print(missing_values.sum())\n",
    "print(missing_values.isna().any())\n",
    "#results show that there is no missing values"
   ]
  },
  {
   "cell_type": "code",
   "execution_count": 4,
   "id": "e4071ae6",
   "metadata": {
    "execution": {
     "iopub.execute_input": "2024-08-23T14:54:38.482074Z",
     "iopub.status.busy": "2024-08-23T14:54:38.481169Z",
     "iopub.status.idle": "2024-08-23T14:54:38.493479Z",
     "shell.execute_reply": "2024-08-23T14:54:38.492044Z"
    },
    "papermill": {
     "duration": 0.018979,
     "end_time": "2024-08-23T14:54:38.496110",
     "exception": false,
     "start_time": "2024-08-23T14:54:38.477131",
     "status": "completed"
    },
    "tags": []
   },
   "outputs": [
    {
     "name": "stdout",
     "output_type": "stream",
     "text": [
      "False\n"
     ]
    }
   ],
   "source": [
    "duplicated_data = global_pop.duplicated()\n",
    "print(duplicated_data.any())\n",
    "#no duplicated data"
   ]
  },
  {
   "cell_type": "code",
   "execution_count": 5,
   "id": "5e92bfba",
   "metadata": {
    "execution": {
     "iopub.execute_input": "2024-08-23T14:54:38.504911Z",
     "iopub.status.busy": "2024-08-23T14:54:38.503973Z",
     "iopub.status.idle": "2024-08-23T14:54:38.510377Z",
     "shell.execute_reply": "2024-08-23T14:54:38.509318Z"
    },
    "papermill": {
     "duration": 0.013124,
     "end_time": "2024-08-23T14:54:38.512609",
     "exception": false,
     "start_time": "2024-08-23T14:54:38.499485",
     "status": "completed"
    },
    "tags": []
   },
   "outputs": [
    {
     "name": "stdout",
     "output_type": "stream",
     "text": [
      "City                object\n",
      "Country             object\n",
      "Population_2023      int64\n",
      "Growth_Rate (%)    float64\n",
      "Population_2024      int64\n",
      "dtype: object\n"
     ]
    }
   ],
   "source": [
    "data_types = global_pop.dtypes\n",
    "print(data_types)"
   ]
  },
  {
   "cell_type": "code",
   "execution_count": 6,
   "id": "54310434",
   "metadata": {
    "execution": {
     "iopub.execute_input": "2024-08-23T14:54:38.520796Z",
     "iopub.status.busy": "2024-08-23T14:54:38.519864Z",
     "iopub.status.idle": "2024-08-23T14:54:38.525907Z",
     "shell.execute_reply": "2024-08-23T14:54:38.524914Z"
    },
    "papermill": {
     "duration": 0.012283,
     "end_time": "2024-08-23T14:54:38.528001",
     "exception": false,
     "start_time": "2024-08-23T14:54:38.515718",
     "status": "completed"
    },
    "tags": []
   },
   "outputs": [
    {
     "name": "stdout",
     "output_type": "stream",
     "text": [
      "['Los Angeles' 'Shanghai' 'Cairo' 'Mumbai' 'Sydney' 'London' 'Sao Paulo'\n",
      " 'Tokyo' 'New York' 'Moscow']\n"
     ]
    }
   ],
   "source": [
    "unique_values = global_pop['City'].unique()\n",
    "print(unique_values)"
   ]
  },
  {
   "cell_type": "code",
   "execution_count": 7,
   "id": "6e04a424",
   "metadata": {
    "execution": {
     "iopub.execute_input": "2024-08-23T14:54:38.536419Z",
     "iopub.status.busy": "2024-08-23T14:54:38.535416Z",
     "iopub.status.idle": "2024-08-23T14:54:38.542071Z",
     "shell.execute_reply": "2024-08-23T14:54:38.540934Z"
    },
    "papermill": {
     "duration": 0.013089,
     "end_time": "2024-08-23T14:54:38.544347",
     "exception": false,
     "start_time": "2024-08-23T14:54:38.531258",
     "status": "completed"
    },
    "tags": []
   },
   "outputs": [
    {
     "name": "stdout",
     "output_type": "stream",
     "text": [
      "['USA' 'China' 'Egypt' 'India' 'Australia' 'UK' 'Brazil' 'Japan' 'Russia']\n"
     ]
    }
   ],
   "source": [
    "unique_values = global_pop['Country'].unique()\n",
    "print(unique_values)"
   ]
  }
 ],
 "metadata": {
  "kaggle": {
   "accelerator": "none",
   "dataSources": [
    {
     "datasetId": 5572438,
     "sourceId": 9215394,
     "sourceType": "datasetVersion"
    }
   ],
   "dockerImageVersionId": 30761,
   "isGpuEnabled": false,
   "isInternetEnabled": false,
   "language": "python",
   "sourceType": "notebook"
  },
  "kernelspec": {
   "display_name": "Python 3",
   "language": "python",
   "name": "python3"
  },
  "language_info": {
   "codemirror_mode": {
    "name": "ipython",
    "version": 3
   },
   "file_extension": ".py",
   "mimetype": "text/x-python",
   "name": "python",
   "nbconvert_exporter": "python",
   "pygments_lexer": "ipython3",
   "version": "3.10.14"
  },
  "papermill": {
   "default_parameters": {},
   "duration": 3.748843,
   "end_time": "2024-08-23T14:54:39.068631",
   "environment_variables": {},
   "exception": null,
   "input_path": "__notebook__.ipynb",
   "output_path": "__notebook__.ipynb",
   "parameters": {},
   "start_time": "2024-08-23T14:54:35.319788",
   "version": "2.6.0"
  }
 },
 "nbformat": 4,
 "nbformat_minor": 5
}
